{
 "cells": [
  {
   "cell_type": "markdown",
   "metadata": {},
   "source": [
    "# Hangman Game"
   ]
  },
  {
   "cell_type": "code",
   "execution_count": 1,
   "metadata": {},
   "outputs": [],
   "source": [
    "import random"
   ]
  },
  {
   "cell_type": "code",
   "execution_count": 2,
   "metadata": {},
   "outputs": [
    {
     "name": "stdout",
     "output_type": "stream",
     "text": [
      "Welcome to Hangman!!\n",
      "Enter your name: Apoorva\n",
      "\n",
      "Guess letters of the word one by one, you will have total of 10 chances.\n",
      "\n",
      "Let's Begin our game Apoorva\n",
      "Guess the characters\n",
      "_ _ _ _ _ _ _ Guess a character:k\n",
      "\n",
      "Incorrect Guess!\n",
      "You have 9 more guesses.\n",
      "_ _ _ _ _ _ _ Guess a character:i\n",
      "_ _ _ i _ _ _ Guess a character:a\n",
      "_ _ _ i _ a _ Guess a character:o\n",
      "_ o _ i _ a _ Guess a character:p\n",
      "\n",
      "Incorrect Guess!\n",
      "You have 8 more guesses.\n",
      "_ o _ i _ a _ Guess a character:r\n",
      "\n",
      "Incorrect Guess!\n",
      "You have 7 more guesses.\n",
      "_ o _ i _ a _ Guess a character:t\n",
      "\n",
      "Incorrect Guess!\n",
      "You have 6 more guesses.\n",
      "_ o _ i _ a _ Guess a character:s\n",
      "\n",
      "Incorrect Guess!\n",
      "You have 5 more guesses.\n",
      "_ o _ i _ a _ Guess a character:v\n",
      "\n",
      "Incorrect Guess!\n",
      "You have 4 more guesses.\n",
      "_ o _ i _ a _ Guess a character:m\n",
      "\n",
      "Incorrect Guess!\n",
      "You have 3 more guesses.\n",
      "_ o _ i _ a _ Guess a character:n\n",
      "\n",
      "Incorrect Guess!\n",
      "You have 2 more guesses.\n",
      "_ o _ i _ a _ Guess a character:a\n",
      "_ o _ i _ a _ Guess a character:h\n",
      "h o _ i _ a _ Guess a character:p\n",
      "\n",
      "Incorrect Guess!\n",
      "You have 1 more guesses.\n",
      "h o _ i _ a _ Guess a character:d\n",
      "h o _ i d a _ Guess a character:l\n",
      "h o l i d a _ Guess a character:y\n",
      "h o l i d a y \n",
      "The word is correctly guessed as: holiday\n",
      "\n",
      "Congratulations Apoorva You Win!!!\n"
     ]
    }
   ],
   "source": [
    "words=['mango','ford','bounce','exercise','health','sweets','holiday']\n",
    "word=random.choice(words)\n",
    "\n",
    "print(\"Welcome to Hangman!!\")\n",
    "name=input(\"Enter your name: \")\n",
    "\n",
    "print(\"\\nGuess letters of the word one by one, you will have total of 10 chances.\")\n",
    "print(\"\\nLet's Begin our game\",name)\n",
    "\n",
    "\n",
    "print(\"Guess the characters\")\n",
    "guesses = ''\n",
    "turns = 10\n",
    "\n",
    "while(turns>0):\n",
    "    fail=0\n",
    "    for char in word:\n",
    "        if char in guesses:\n",
    "            print(char,end=' '),\n",
    "        else: \n",
    "            print(\"_\",end=' ')\n",
    "            fail=fail+1\n",
    "    if fail==0:\n",
    "        print(\"\\nThe word is correctly guessed as:\",word)\n",
    "        print(\"\\nCongratulations\",name,\"You Win!!!\")\n",
    "        break\n",
    "    \n",
    "    guess = input(\"Guess a character:\")\n",
    "    guesses += guess \n",
    "    if guess not in word:\n",
    "        turns -= 1\n",
    "        print(\"\\nIncorrect Guess!\")\n",
    "        print(\"You have\", + turns, 'more guesses.')\n",
    "        if turns == 0:\n",
    "            print(\"\\nBetter Luck Next Time!!!\")   \n",
    "       "
   ]
  },
  {
   "cell_type": "code",
   "execution_count": null,
   "metadata": {},
   "outputs": [],
   "source": []
  }
 ],
 "metadata": {
  "kernelspec": {
   "display_name": "Python 3",
   "language": "python",
   "name": "python3"
  },
  "language_info": {
   "codemirror_mode": {
    "name": "ipython",
    "version": 3
   },
   "file_extension": ".py",
   "mimetype": "text/x-python",
   "name": "python",
   "nbconvert_exporter": "python",
   "pygments_lexer": "ipython3",
   "version": "3.8.3"
  }
 },
 "nbformat": 4,
 "nbformat_minor": 4
}
